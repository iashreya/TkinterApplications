{
 "cells": [
  {
   "cell_type": "code",
   "execution_count": 1,
   "metadata": {
    "collapsed": true
   },
   "outputs": [],
   "source": [
    "import numpy as np"
   ]
  },
  {
   "cell_type": "code",
   "execution_count": 2,
   "metadata": {
    "collapsed": true
   },
   "outputs": [],
   "source": [
    "import tkinter as tk\n",
    "from tkinter import messagebox\n",
    "from tkinter.ttk import *\n",
    "main = tk.Tk()\n",
    "main.title(\"SGPA Calculator\")\n",
    "sep = tk.Frame(main, height = 10)\n",
    "sep.grid(sticky = 'n')\n",
    "window = tk.Frame(main)\n",
    "window.grid()\n",
    "\n",
    "#Inputting the number of subjects\n",
    "tk.Label(window, text = \"Enter the number of subjects : \", font = (\"Georgia 10 bold\"), justify = \"left\").grid(row = 0, column = 0, sticky = 'e')\n",
    "num_subjects = Combobox(window)\n",
    "num_subjects['values'] = (5, 6)\n",
    "num_subjects.current(0)\n",
    "num_subjects.grid(row = 0, column = 1)\n",
    "\n",
    "#Inputting the number of Labs\n",
    "tk.Label(window, text = \"Enter the number of labs : \", font = (\"Georgia 10 bold\")).grid(row = 1, column = 0, sticky = 'e')\n",
    "num_labs = Combobox(window)\n",
    "num_labs['values'] = (2,3,4)\n",
    "num_labs.current(0)\n",
    "num_labs.grid(row = 1, column = 1)\n",
    "\n",
    "#Function to clear window \n",
    "def clear_window(event):\n",
    "    window.grid_remove()\n",
    "    credits = []\n",
    "    grades = []\n",
    "    subjects = []\n",
    "    labs = []\n",
    "    window1 = tk.Frame(main)\n",
    "    window1.grid()\n",
    "    \n",
    "    tk.Label(window1, text = \"Courses\", font = (\"Georgia 10 bold\")).grid(row = 0, column = 0)\n",
    "    tk.Label(window1, text = \"Credits\", font = (\"Georgia 10 bold\")).grid(row = 0, column = 1)\n",
    "    tk.Label(window1, text = \"Grades\", font = (\"Georgia 10 bold\")).grid(row = 0, column = 2)\n",
    "    \n",
    "    for i in range(int(num_subjects.get())):\n",
    "        lbl = tk.Label(window1, text = \"Subject_\" + str(i + 1), font = (\"Georgia 8 italic\"))\n",
    "        crdt = Combobox(window1)\n",
    "        crdt['values'] = (0,1,2,3,4,5)\n",
    "        crdt.current(0)\n",
    "        grd = Combobox(window1)\n",
    "        grd['values'] = (0,1,2,3,4,5,6,7,8,9,10)\n",
    "        grd.current(0)    \n",
    "        \n",
    "        lbl.grid(row = i+1, column = 0)\n",
    "        crdt.grid(row = i+1, column = 1)\n",
    "        grd.grid(row = i+1, column = 2)\n",
    "        \n",
    "        subjects.append(lbl)\n",
    "        credits.append(crdt)\n",
    "        grades.append(grd)\n",
    "        \n",
    "    for i in range(int(num_subjects.get()),int(num_labs.get())+int(num_subjects.get()),1):\n",
    "        lbl = tk.Label(window1, text = \"      Lab_\" + str(i-int(num_subjects.get())+1), font = (\"Georgia 8 italic\"))\n",
    "        crdt = Combobox(window1)\n",
    "        crdt['values'] = (1)\n",
    "        crdt.current(0)\n",
    "        grd = Combobox(window1)\n",
    "        grd['values'] = (0,1,2,3,4,5,6,7,8,9,10)\n",
    "        grd.current(0)\n",
    "        \n",
    "        lbl.grid(row = i, column = 0)\n",
    "        crdt.grid(row = i, column = 1)\n",
    "        grd.grid(row = i, column = 2)\n",
    "        \n",
    "        labs.append(lbl)\n",
    "        credits.append(crdt)\n",
    "        grades.append(grd)\n",
    "        \n",
    "    def get_values(event):\n",
    "        credit = [int(i.get()) for i in credits]\n",
    "        grade = [int(i.get()) for i in grades]\n",
    "        credit = np.array(credit)\n",
    "        grade = np.array(grade)\n",
    "        sgpa = Calculate(credit, grade)\n",
    "        messagebox.showinfo(title=\"Result\", message=\"Your SGPA for this\\nsememester is : \" + str(round(sgpa,4)))\n",
    "          \n",
    "        \n",
    "    cal = tk.Button(window1, text = \"Calculate\", font = (\"Georgia 10 bold\"))\n",
    "    cal.bind(\"<Button-1>\", get_values)\n",
    "    cal.grid(row = int(num_labs.get())+int(num_subjects.get())+3, column = 1, sticky = 'e')\n",
    "\n",
    "    \n",
    "    \n",
    "def Calculate(credit, grade):\n",
    "    weighted_sum = sum(credit*grade)\n",
    "    credit_sum = sum(credit)\n",
    "    sgpa = weighted_sum/credit_sum\n",
    "    return(sgpa)\n",
    "    \n",
    "\n",
    "#Next Button\n",
    "nxt = tk.Button(window, text = \"Next >>\")\n",
    "nxt.bind(\"<Button-1>\", clear_window)\n",
    "nxt.grid(row = 3, column = 1, sticky = 'e')\n",
    "main.mainloop()\n"
   ]
  },
  {
   "cell_type": "code",
   "execution_count": null,
   "metadata": {
    "collapsed": true
   },
   "outputs": [],
   "source": []
  },
  {
   "cell_type": "code",
   "execution_count": null,
   "metadata": {
    "collapsed": true
   },
   "outputs": [],
   "source": []
  }
 ],
 "metadata": {
  "kernelspec": {
   "display_name": "Python 3",
   "language": "python",
   "name": "python3"
  },
  "language_info": {
   "codemirror_mode": {
    "name": "ipython",
    "version": 3
   },
   "file_extension": ".py",
   "mimetype": "text/x-python",
   "name": "python",
   "nbconvert_exporter": "python",
   "pygments_lexer": "ipython3",
   "version": "3.6.2"
  }
 },
 "nbformat": 4,
 "nbformat_minor": 2
}
