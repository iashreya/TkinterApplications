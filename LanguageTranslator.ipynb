{
 "cells": [
  {
   "cell_type": "code",
   "execution_count": 1,
   "metadata": {
    "collapsed": true
   },
   "outputs": [],
   "source": [
    "import tkinter as tk\n",
    "from tkinter import messagebox as msg\n",
    "from tkinter.ttk import Notebook"
   ]
  },
  {
   "cell_type": "code",
   "execution_count": 2,
   "metadata": {
    "collapsed": true
   },
   "outputs": [],
   "source": [
    "import requests"
   ]
  },
  {
   "cell_type": "code",
   "execution_count": 3,
   "metadata": {
    "collapsed": true
   },
   "outputs": [],
   "source": [
    "class TranslateBook(tk.Tk):\n",
    "    def __init__(self):\n",
    "        super().__init__()\n",
    "        \n",
    "        self.title(\"Translation Book v1\")\n",
    "        self.geometry(\"500x300\")\n",
    "        \n",
    "        self.notebook = Notebook(self)\n",
    "        \n",
    "        english_tab = tk.Frame(self.notebook)\n",
    "        italian_tab = tk.Frame(self.notebook)\n",
    "        \n",
    "        self.translate_button = tk.Button(english_tab, text = \"Translate\", command = self.translate)\n",
    "        self.translate_button.pack(side = tk.BOTTOM, fill = tk.X )\n",
    "        \n",
    "        self.english_entry = tk.Text(english_tab, bg = \"white\", fg = \"black\")\n",
    "        self.english_entry.pack(side = tk.TOP, expand = 1)\n",
    "        \n",
    "        self.italian_copy_button = tk.Button(italian_tab, text = \"Copy to Clipboard\", command = self.copy_to_clipboard)\n",
    "        self.italian_copy_button.pack(side = tk.BOTTOM, fill = tk.X)\n",
    "        \n",
    "        self.italian_translation = tk.StringVar(italian_tab)\n",
    "        self.italian_translation.set(\"\")\n",
    "        \n",
    "        self.italian_label = tk.Label(italian_tab, textvar = self.italian_translation, bg = \"lightgrey\", fg = \"black\")\n",
    "        self.italian_label.pack(side = tk.TOP, fill = tk.BOTH, expand = 1)\n",
    "        \n",
    "        self.notebook.add(english_tab, text = \"English\")\n",
    "        self.notebook.add(italian_tab, text = \"Italian\")\n",
    "        self.notebook.pack(fill = tk.BOTH, expand = 1)\n",
    "        \n",
    "    def translate(self, target_language = \"it\", text = None):\n",
    "        if not text:\n",
    "            text = self.english_entry.get(1.0, tk.END)\n",
    "            \n",
    "        url = \"https://translate.googleapis.com/translate_a/single?client=gtx&sl={}&tl={}&dt=t&q={}\".format(\"en\", target_language, text)\n",
    "        \n",
    "        try:\n",
    "            r = requests.get(url)\n",
    "            r.raise_for_status()\n",
    "            translation = r.json()[0][0][0]\n",
    "            self.italian_translation.set(translation)\n",
    "            msg.showinfo(\"Translation Successful\", \"Text successfully translated\")\n",
    "        except Exception as e:\n",
    "            msg.showerror(\"Translation Failed\", str(e))\n",
    "            \n",
    "    def copy_to_clipboard(self, text = None):\n",
    "        if not text:\n",
    "            text = self.italian_translation.get()\n",
    "        \n",
    "        self.clipboard_clear()\n",
    "        self.clipboard_append(text)\n",
    "        msg.showinfo(\"Copied Successfully\", \"Text copied to clipboard\")\n",
    "        \n",
    "if __name__ == \"__main__\":\n",
    "    translatebook = TranslateBook()\n",
    "    translatebook.mainloop()\n",
    "        \n",
    "        "
   ]
  },
  {
   "cell_type": "code",
   "execution_count": null,
   "metadata": {
    "collapsed": true
   },
   "outputs": [],
   "source": []
  }
 ],
 "metadata": {
  "kernelspec": {
   "display_name": "Python 3",
   "language": "python",
   "name": "python3"
  },
  "language_info": {
   "codemirror_mode": {
    "name": "ipython",
    "version": 3
   },
   "file_extension": ".py",
   "mimetype": "text/x-python",
   "name": "python",
   "nbconvert_exporter": "python",
   "pygments_lexer": "ipython3",
   "version": "3.6.2"
  }
 },
 "nbformat": 4,
 "nbformat_minor": 2
}
